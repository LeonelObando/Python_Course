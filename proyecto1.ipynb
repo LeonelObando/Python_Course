{
 "cells": [
  {
   "cell_type": "markdown",
   "metadata": {},
   "source": [
    "# Objetos Fundamentales"
   ]
  },
  {
   "cell_type": "code",
   "execution_count": 1,
   "metadata": {},
   "outputs": [],
   "source": [
    "import math"
   ]
  },
  {
   "cell_type": "code",
   "execution_count": 2,
   "metadata": {},
   "outputs": [],
   "source": [
    "def x(x0,v0x,tiempo):\n",
    "    return x0+v0x*tiempo"
   ]
  },
  {
   "cell_type": "code",
   "execution_count": 3,
   "metadata": {},
   "outputs": [],
   "source": [
    "def y(y0,v0y,gravedad,tiempo):\n",
    "    return y0+v0y*tiempo+0.5*gravedad*tiempo**2"
   ]
  },
  {
   "cell_type": "code",
   "execution_count": 4,
   "metadata": {},
   "outputs": [],
   "source": [
    "def compv0(rapidez_inicial, angulo):\n",
    "    \"\"\"\n",
    "    Determina las componentes de la velocidad inicial\n",
    "    Input: rapidez_incial, angulo de la velocidad inicial en grados\n",
    "    Output: componentes del vector de velocidad inicial\n",
    "    \"\"\"\n",
    "    v0x = rapidez_inicial*math.cos(math.radians(angulo))\n",
    "    v0y = rapidez_inicial*math.sin(math.radians(angulo))\n",
    "    return [v0x,v0y]\n",
    "    \n",
    "    "
   ]
  },
  {
   "cell_type": "code",
   "execution_count": 5,
   "metadata": {},
   "outputs": [],
   "source": [
    "def r(x0, y0, rapidez_inicial, angulo, gravedad, tiempo):\n",
    "    v0=compv0(rapidez_inicial, angulo)\n",
    "    return(x(x0,v0[0],tiempo), y(y0, v0[1],gravedad, tiempo))"
   ]
  },
  {
   "cell_type": "markdown",
   "metadata": {},
   "source": [
    "Tiempo en que cae al suelo"
   ]
  },
  {
   "cell_type": "code",
   "execution_count": 27,
   "metadata": {},
   "outputs": [],
   "source": [
    "def t_caida(altura):\n",
    "    gravedad_planetas=[3.7, 8.87, 9.8, 3.71, 24.79, 10.44, 8.87, 11.15]\n",
    "    nombreplaneta=[\"Mercurio\", \"Venus\", \"Tierra\", \"Marte\", \"Júpiter\", \"Saturno\", \"Urano\", \"Neptuno\"]\n",
    "    try:\n",
    "        planeta = int(input(\"¿En qué planeta se encuentra? \\n 1. Mercurio \\n 2. Venus\\n 3. Tierra \\n 4. Marte \\n 5. Júpiter \\n 6. Saturno \\n 7. Urano \\n 8. Neptuno \\n Escriba solo el número: \"))\n",
    "    except ValueError:\n",
    "        print(\"\\nERROR: Escriba solo el número\")\n",
    "        t_caida()\n",
    "        return(None)\n",
    "    try:\n",
    "        gravedad=gravedad_planetas[planeta-1]\n",
    "    except:\n",
    "        print(\"\\n ERROR: Escriba únicamente un número de la lista\")\n",
    "        t_caida()\n",
    "        return(None)\n",
    "    try:\n",
    "        rapidez_inicial = float(input(\"¿Con qué rapidez inicial sale el proyectil?\\n\"))\n",
    "        angulo=float(input(\"¿Con qué ángulo parte el proyectil?\\n Ingréselo en grados:\"))\n",
    "        x0=float(input(\"Coordenada x de la posición inicial: \"))\n",
    "        y0=float(input(\"Coordenada y de la posición inicial: \"))\n",
    "    except: \n",
    "        print(\"\\nERROR: Alguno de los valores ingresados no son consistentes.\")\n",
    "        t_caida()\n",
    "        return(None)\n",
    "    a = -0.5*gravedad\n",
    "    v0=compv0(rapidez_inicial, angulo)\n",
    "    b=v0[1]\n",
    "    c=y0-altura\n",
    "    try:\n",
    "        sol1=(-b+math.sqrt(b**2-4*a*c))/(2*a)\n",
    "    except ValueError:\n",
    "        print(\"El proyectil nunca alcanzará el suelo.\")\n",
    "        return(None)\n",
    "    sol2=(-b-math.sqrt(b**2-4*a*c))/(2*a)\n",
    "    t=sol1 if sol1>0 else sol2\n",
    "    print(f\"\\nEl tiempo en que el proyectil, que parte de ({x0},{y0}) con rapidez inicial {rapidez_inicial} m/s a un ángulo de {angulo} grados, cae al suelo en el planeta {nombreplaneta[planeta-1]} es: {t}\")\n",
    "    \n",
    "    "
   ]
  },
  {
   "cell_type": "code",
   "execution_count": 28,
   "metadata": {},
   "outputs": [
    {
     "name": "stdout",
     "output_type": "stream",
     "text": [
      "¿En qué planeta se encuentra? \n",
      " 1. Mercurio \n",
      " 2. Venus\n",
      " 3. Tierra \n",
      " 4. Marte \n",
      " 5. Júpiter \n",
      " 6. Saturno \n",
      " 7. Urano \n",
      " 8. Neptuno \n",
      " Escriba solo el número: 3\n",
      "¿Con qué rapidez inicial sale el proyectil?\n",
      "10\n",
      "¿Con qué ángulo parte el proyectil?\n",
      " Ingréselo en grados:-30\n",
      "Coordenada x de la posición inicial: 0\n",
      "Coordenada y de la posición inicial: -3\n",
      "El proyectil nunca alcanzará el suelo.\n"
     ]
    }
   ],
   "source": [
    "t_caida(0)"
   ]
  },
  {
   "cell_type": "code",
   "execution_count": null,
   "metadata": {},
   "outputs": [],
   "source": []
  },
  {
   "cell_type": "code",
   "execution_count": null,
   "metadata": {},
   "outputs": [],
   "source": []
  }
 ],
 "metadata": {
  "kernelspec": {
   "display_name": "Python 3",
   "language": "python",
   "name": "python3"
  },
  "language_info": {
   "codemirror_mode": {
    "name": "ipython",
    "version": 3
   },
   "file_extension": ".py",
   "mimetype": "text/x-python",
   "name": "python",
   "nbconvert_exporter": "python",
   "pygments_lexer": "ipython3",
   "version": "3.8.3"
  }
 },
 "nbformat": 4,
 "nbformat_minor": 4
}
